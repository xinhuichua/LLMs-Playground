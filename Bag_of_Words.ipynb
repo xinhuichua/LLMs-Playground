{
  "nbformat": 4,
  "nbformat_minor": 0,
  "metadata": {
    "colab": {
      "provenance": []
    },
    "kernelspec": {
      "name": "python3",
      "display_name": "Python 3"
    },
    "language_info": {
      "name": "python"
    }
  },
  "cells": [
    {
      "cell_type": "code",
      "execution_count": null,
      "metadata": {
        "id": "uDABns93Hn7t"
      },
      "outputs": [],
      "source": [
        "from collections import defaultdict\n",
        "import string\n",
        "corpus = [\"I want to eat food.\",\n",
        "\n",
        "\"She likes to eat Italian pizza.\",\n",
        "\"I want to sleep\"]"
      ]
    },
    {
      "cell_type": "code",
      "source": [
        "#normalization\n",
        "def preprocess(text):\n",
        "  text = text.lower() #if you don't then each words becomes unique\n",
        "  text = text.translate(str.maketrans('','',string.punctuation))\n",
        "  tokens = text.split()\n",
        "  return tokens\n",
        "\n",
        "proc_corpus = [preprocess(sent) for sent in corpus]\n",
        "print(proc_corpus)"
      ],
      "metadata": {
        "colab": {
          "base_uri": "https://localhost:8080/"
        },
        "id": "eqUfS0tMIHPp",
        "outputId": "d4b46d71-eb62-461f-a3dd-4083bfe3ed98"
      },
      "execution_count": null,
      "outputs": [
        {
          "output_type": "stream",
          "name": "stdout",
          "text": [
            "[['i', 'want', 'to', 'eat', 'food'], ['she', 'likes', 'to', 'eat', 'italian', 'pizza'], ['i', 'want', 'to', 'sleep']]\n"
          ]
        }
      ]
    },
    {
      "cell_type": "code",
      "source": [
        "#Build vocab\n",
        "#Initialize an empty set for the vocab\n",
        "vocab = set()\n",
        "\n",
        "#Build the vocab\n",
        "for sent in proc_corpus:\n",
        "  vocab.update(sent)\n",
        "\n",
        "#convert to sorted list\n",
        "vocab = sorted(list(vocab))\n",
        "print(\"Vocab:\", vocab)\n",
        "print(\"vocab is\", len(vocab))"
      ],
      "metadata": {
        "colab": {
          "base_uri": "https://localhost:8080/"
        },
        "id": "37rQO2JlIxAI",
        "outputId": "40e7ba03-38a1-4390-e59d-815a382095c3"
      },
      "execution_count": null,
      "outputs": [
        {
          "output_type": "stream",
          "name": "stdout",
          "text": [
            "Vocab: ['eat', 'food', 'i', 'italian', 'likes', 'pizza', 'she', 'sleep', 'to', 'want']\n",
            "vocab is 10\n"
          ]
        }
      ]
    },
    {
      "cell_type": "code",
      "source": [
        "def create_bow(sentence,vocab):\n",
        "  vector = [0] * len(vocab)\n",
        "  for word in sentence:\n",
        "    if word in vocab:\n",
        "      idx = vocab.index(word)\n",
        "      vector[idx] += 1\n",
        "    return vector\n",
        "bow_vectors = [create_bow(sent, vocab) for sent in proc_corpus]\n",
        "print(\"Bow vectors: \")\n",
        "for vector in bow_vectors:\n",
        "  print(vector)\n",
        "print(\"vector length is\", len(vector))"
      ],
      "metadata": {
        "colab": {
          "base_uri": "https://localhost:8080/"
        },
        "id": "2E6_6CuKJtg_",
        "outputId": "387fbad8-3de0-4596-b859-d1e9738f1d52"
      },
      "execution_count": null,
      "outputs": [
        {
          "output_type": "stream",
          "name": "stdout",
          "text": [
            "Bow vectors: \n",
            "[0, 0, 1, 0, 0, 0, 0, 0, 0, 0]\n",
            "[0, 0, 0, 0, 0, 0, 1, 0, 0, 0]\n",
            "[0, 0, 1, 0, 0, 0, 0, 0, 0, 0]\n",
            "vector length is 10\n"
          ]
        }
      ]
    },
    {
      "cell_type": "code",
      "source": [
        "#embedding a bag of words in each sentence\n",
        "\n",
        "#improve embedding\n"
      ],
      "metadata": {
        "id": "6ieB-Hs_Kgn3"
      },
      "execution_count": null,
      "outputs": []
    }
  ]
}